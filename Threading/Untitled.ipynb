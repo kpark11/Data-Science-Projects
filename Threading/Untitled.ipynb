{
 "cells": [
  {
   "cell_type": "code",
   "execution_count": 18,
   "id": "f87ae466-e4a7-45d4-b9b8-ebfed3e9f2a2",
   "metadata": {},
   "outputs": [],
   "source": [
    "class JobProcessor(Thread):\n",
    "    def __init__(self, distributor):\n",
    "        self.distributor = distributor\n",
    "        self.terminate = False  # \"I cannot self-terminate 🤖\"\n",
    "\n",
    "    def Process(self):\n",
    "        while not self.terminate:\n",
    "            job_request = self.distributor.GetNextJob()\n",
    "            job_response = self.DoJob(job_request)\n",
    "            self.distributor.ProcessResponse(job_response)\n",
    "\n",
    "    def DoJob(self, job_request):\n",
    "        raise NotImplementedError\n",
    "\n",
    "    def Stop(self):\n",
    "        self.terminate = True\n",
    "\n",
    "\n",
    "class Distributor:\n",
    "    def __init__(self):\n",
    "        # NOTE: Assume all operations on a Queue are\n",
    "        #       thread-safe. When `get()` is called on\n",
    "        #       an empty Queue instance, it will block\n",
    "        #       until a separate thread puts a new\n",
    "        #       element in it.\n",
    "        self.request_queue = Queue()\n",
    "        self.response_queue = Queue()\n",
    "\n",
    "    def GetNextJob(self):\n",
    "        job = self.request_queue.get()\n",
    "        return job\n",
    "\n",
    "    def ProcessResponse(self, job_response):\n",
    "        self.response_queue.put(job_response)\n",
    "\n",
    "    def Run(self, job_list):\n",
    "        for job in job_list:\n",
    "            self.request_queue.put(job)\n",
    "\n",
    "        responses = []\n",
    "        while (len(responses) < len(job_list)):\n",
    "            response = self.response_queue.get()\n",
    "            responses.append(response)\n",
    "\n",
    "        return responses"
   ]
  },
  {
   "cell_type": "code",
   "execution_count": 36,
   "id": "f647c28e-bb24-4b03-ba4e-6edfc6c03b84",
   "metadata": {},
   "outputs": [],
   "source": [
    "from threading import Thread\n",
    "from statistics import mean\n",
    "'''Implement any additional classes or functions'''\n",
    "\n",
    "def ComputeMeans(integer_lists, worker_thread_count):\n",
    "    '''Implement this function'''\n",
    "    MEAN = []\n",
    "    \n",
    "    for i in range(len(integer_lists)):\n",
    "        JobProcessor(Distributor())\n",
    "        MEAN.append(integer_lists[i])\n",
    "    \n",
    "    return MEAN\n",
    "    \n",
    "# Example test input:\n",
    "test_input = [\n",
    "    [1, 2, 3, 4, 5],\n",
    "    [4, 3, 2, 1, 0],\n",
    "    [8, 6, 7, 5, 3, 0, 9]\n",
    "]"
   ]
  },
  {
   "cell_type": "code",
   "execution_count": 37,
   "id": "363b6f2c-0cb0-43d7-9b4c-c047b8afb4c0",
   "metadata": {},
   "outputs": [
    {
     "ename": "NameError",
     "evalue": "name 'Queue' is not defined",
     "output_type": "error",
     "traceback": [
      "\u001b[1;31m---------------------------------------------------------------------------\u001b[0m",
      "\u001b[1;31mNameError\u001b[0m                                 Traceback (most recent call last)",
      "Cell \u001b[1;32mIn[37], line 1\u001b[0m\n\u001b[1;32m----> 1\u001b[0m JobProcessor(ComputeMeans(test_input,\u001b[38;5;28mlen\u001b[39m(test_input)))\n",
      "Cell \u001b[1;32mIn[36], line 10\u001b[0m, in \u001b[0;36mComputeMeans\u001b[1;34m(integer_lists, worker_thread_count)\u001b[0m\n\u001b[0;32m      7\u001b[0m MEAN \u001b[38;5;241m=\u001b[39m []\n\u001b[0;32m      9\u001b[0m \u001b[38;5;28;01mfor\u001b[39;00m i \u001b[38;5;129;01min\u001b[39;00m \u001b[38;5;28mrange\u001b[39m(\u001b[38;5;28mlen\u001b[39m(integer_lists)):\n\u001b[1;32m---> 10\u001b[0m     JobProcessor(Distributor())\n\u001b[0;32m     11\u001b[0m     MEAN\u001b[38;5;241m.\u001b[39mappend(integer_lists[i])\n\u001b[0;32m     13\u001b[0m \u001b[38;5;28;01mreturn\u001b[39;00m MEAN\n",
      "Cell \u001b[1;32mIn[18], line 26\u001b[0m, in \u001b[0;36mDistributor.__init__\u001b[1;34m(self)\u001b[0m\n\u001b[0;32m     20\u001b[0m \u001b[38;5;28;01mdef\u001b[39;00m \u001b[38;5;21m__init__\u001b[39m(\u001b[38;5;28mself\u001b[39m):\n\u001b[0;32m     21\u001b[0m     \u001b[38;5;66;03m# NOTE: Assume all operations on a Queue are\u001b[39;00m\n\u001b[0;32m     22\u001b[0m     \u001b[38;5;66;03m#       thread-safe. When `get()` is called on\u001b[39;00m\n\u001b[0;32m     23\u001b[0m     \u001b[38;5;66;03m#       an empty Queue instance, it will block\u001b[39;00m\n\u001b[0;32m     24\u001b[0m     \u001b[38;5;66;03m#       until a separate thread puts a new\u001b[39;00m\n\u001b[0;32m     25\u001b[0m     \u001b[38;5;66;03m#       element in it.\u001b[39;00m\n\u001b[1;32m---> 26\u001b[0m     \u001b[38;5;28mself\u001b[39m\u001b[38;5;241m.\u001b[39mrequest_queue \u001b[38;5;241m=\u001b[39m Queue()\n\u001b[0;32m     27\u001b[0m     \u001b[38;5;28mself\u001b[39m\u001b[38;5;241m.\u001b[39mresponse_queue \u001b[38;5;241m=\u001b[39m Queue()\n",
      "\u001b[1;31mNameError\u001b[0m: name 'Queue' is not defined"
     ]
    }
   ],
   "source": [
    "JobProcessor(ComputeMeans(test_input,len(test_input)))"
   ]
  },
  {
   "cell_type": "code",
   "execution_count": null,
   "id": "543f87fe-85ed-4e9d-b9a3-452fcdf973b9",
   "metadata": {},
   "outputs": [],
   "source": []
  }
 ],
 "metadata": {
  "kernelspec": {
   "display_name": "Python 3 (ipykernel)",
   "language": "python",
   "name": "python3"
  },
  "language_info": {
   "codemirror_mode": {
    "name": "ipython",
    "version": 3
   },
   "file_extension": ".py",
   "mimetype": "text/x-python",
   "name": "python",
   "nbconvert_exporter": "python",
   "pygments_lexer": "ipython3",
   "version": "3.11.5"
  }
 },
 "nbformat": 4,
 "nbformat_minor": 5
}
