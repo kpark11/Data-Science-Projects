{
 "cells": [
  {
   "cell_type": "markdown",
   "id": "cd691248-d6db-4e23-924c-5d6e0cd27c85",
   "metadata": {},
   "source": [
    "<br>\n",
    "<b> Importing all of the needed packages here. <br>\n",
    "<br>"
   ]
  },
  {
   "cell_type": "code",
   "execution_count": 1,
   "id": "d510e927-0350-4a7f-9a4b-389f93ad4e1f",
   "metadata": {},
   "outputs": [
    {
     "name": "stderr",
     "output_type": "stream",
     "text": [
      "C:\\Users\\brian\\Anaconda3\\Lib\\site-packages\\pandas\\core\\arrays\\masked.py:60: UserWarning: Pandas requires version '1.3.6' or newer of 'bottleneck' (version '1.3.5' currently installed).\n",
      "  from pandas.core import (\n"
     ]
    }
   ],
   "source": [
    "import pandas as pd\n",
    "import numpy as np\n",
    "from zipfile import ZipFile\n",
    "import urllib\n",
    "from io import BytesIO\n",
    "from io import StringIO\n",
    "import json"
   ]
  },
  {
   "cell_type": "markdown",
   "id": "a870d5dd-da1f-44f2-aea5-7496499c16ac",
   "metadata": {},
   "source": [
    "<br>\n",
    "<b> Let's get started! </b>\n",
    "<br></br>"
   ]
  },
  {
   "cell_type": "markdown",
   "id": "7e0fe506-bef0-4a7d-accd-ca645d4da548",
   "metadata": {},
   "source": [
    "We will first define functions to get the data and put it into dataframe"
   ]
  },
  {
   "cell_type": "code",
   "execution_count": 2,
   "id": "0406e2ac-7476-43a3-b415-512b31e0a9ae",
   "metadata": {},
   "outputs": [],
   "source": [
    "# The dataset link\n",
    "# This is a zip file.\n",
    "\n",
    "link = r'https://storage.googleapis.com/ds--tasks-datasets/renewable-energy.zip'"
   ]
  },
  {
   "cell_type": "code",
   "execution_count": 3,
   "id": "ae64bb58-bdce-4e53-ae1f-7d5f5cc450f7",
   "metadata": {},
   "outputs": [],
   "source": [
    "# a function to extract zipped files with text files\n",
    "def get_zip_files(link):\n",
    "    # get the zip file\n",
    "    url = urllib.request.urlopen(link).read()\n",
    "    files = ZipFile(BytesIO(url))\n",
    "    \n",
    "    # get the file names into a list; you could use this list for different things \n",
    "    # and to get certain files etc.\n",
    "    listOfFilesNames = files.namelist()\n",
    "    \n",
    "    # open a file from the list; in this case position 23.  This part could be a loop etc. \n",
    "    # and if 'specificFileName' do something different etc.\n",
    "    articles = {}\n",
    "    for i in listOfFilesNames:\n",
    "        if i.endswith('.txt') and i.startswith('renewable'):\n",
    "            names = 'articleID' + i.replace('renewable-energy/','').replace('.txt','')\n",
    "            txt = str(files.open(i).read().decode(\"utf-8\"))\n",
    "            articles[names] = txt\n",
    "\n",
    "    # return the article as a dictionary to identify the article by the id.\n",
    "    # The key format is 'articleID#'  --->> # represents integer numbers\n",
    "    return articles"
   ]
  },
  {
   "cell_type": "code",
   "execution_count": 4,
   "id": "ff9bfc44-04e8-43da-8eb8-5a10b79acd7f",
   "metadata": {},
   "outputs": [],
   "source": [
    "articles = get_zip_files(link)"
   ]
  },
  {
   "cell_type": "markdown",
   "id": "b29a53f0-1194-4553-8b5f-a0b7503bced1",
   "metadata": {},
   "source": [
    "<br></br>\n",
    "Let us look at the keys.\n",
    "<br></br>"
   ]
  },
  {
   "cell_type": "code",
   "execution_count": 5,
   "id": "e2b0a55b-4d3e-485b-beff-a130c4b688c9",
   "metadata": {},
   "outputs": [
    {
     "data": {
      "text/plain": [
       "dict_keys(['articleID29', 'articleID15', 'articleID14', 'articleID28', 'articleID16', 'articleID17', 'articleID13', 'articleID12', 'articleID10', 'articleID11', 'articleID9', 'articleID8', 'articleID5', 'articleID4', 'articleID6', 'articleID7', 'articleID3', 'articleID2', 'articleID1', 'articleID20', 'articleID21', 'articleID23', 'articleID22', 'articleID26', 'articleID27', 'articleID25', 'articleID19', 'articleID18', 'articleID24', 'articleID30'])"
      ]
     },
     "execution_count": 5,
     "metadata": {},
     "output_type": "execute_result"
    }
   ],
   "source": [
    "articles.keys()"
   ]
  },
  {
   "cell_type": "markdown",
   "id": "616f09d4-b9d4-4b5b-91de-e62f25822722",
   "metadata": {},
   "source": [
    "<br></br>\n",
    "Here, the articles have the 'articleID#' as a key with paragraphs with 'n'.\n",
    "By putting the keys into the df, we can read the articles.\n",
    "Let's look at the article #1.\n",
    "<br></br>"
   ]
  },
  {
   "cell_type": "code",
   "execution_count": 6,
   "id": "ea660a96-90f9-4249-b6cb-89c1204b72b3",
   "metadata": {},
   "outputs": [
    {
     "data": {
      "text/plain": [
       "'## Solar Power Gets a Boost: Efficiency and Material Advancements\\n\\nSolar panels are becoming increasingly powerful and accessible thanks to exciting advancements in two key areas: efficiency and materials. \\n\\n**Efficiency improvements** are pushing the boundaries of how much sunlight can be converted into electricity. Researchers are constantly refining existing technologies and exploring new designs. One example is the development of **bifacial solar panels**, which capture sunlight reflected off the ground from both sides, boosting energy production by up to 20%. Additionally, **improved cell design and manufacturing processes** are leading to higher quality and more efficient solar cells.\\n\\nThe future of solar also lies in **new materials**. **Perovskites** are a promising alternative to traditional silicon, offering the potential for even higher efficiency and lower manufacturing costs. Additionally, researchers are exploring the use of **organic semiconductors**, which can be lightweight, flexible, and even printed onto various surfaces. These advancements could pave the way for innovative applications like solar-powered windows and clothing.\\n\\nThese advancements in efficiency and materials are making solar power a more attractive option for individuals and businesses alike, contributing to a cleaner and more sustainable future.\\n'"
      ]
     },
     "execution_count": 6,
     "metadata": {},
     "output_type": "execute_result"
    }
   ],
   "source": [
    "articles['articleID1']"
   ]
  },
  {
   "cell_type": "markdown",
   "id": "3e2bb888-73cb-4b72-9b03-87bed59cfe8a",
   "metadata": {},
   "source": [
    "<br></br>\n",
    "As you can see, we can tidy up the texts. We will write a function to extract the title as a label, which is the first element of the list and the turn paragraphs into sentences without the '\\n' and 'b' in front of the sentences. Finally, we will put it into the pd.DataFrame.\n",
    "<br></br>"
   ]
  },
  {
   "cell_type": "code",
   "execution_count": 7,
   "id": "39030cc2-fd9e-4067-a087-59f339fdcb99",
   "metadata": {},
   "outputs": [],
   "source": [
    "# transferring dictionary to DataFrame. \n",
    "def Dict2df(article_dict):\n",
    "    labels = {}\n",
    "    values_fixed = {}\n",
    "    for keys,values in article_dict.items():\n",
    "        sentences = values.split('\\n')\n",
    "        labels[keys] = sentences[0].replace('## ','')\n",
    "        #values_fixed[keys] = [i.replace('*','').replace('**','').replace('* **', '') for i in sentences[1:] if i != '']\n",
    "        values_fixed[keys] = ' '.join([i.replace('*','').replace('**','').replace('* **', '') for i in sentences[1:] if i != ''])\n",
    "    \n",
    "    df_x = pd.DataFrame(values_fixed.items(), columns=['ID', 'Paragraph'])\n",
    "    df_y = pd.DataFrame(labels.items(), columns=['ID', 'Title'])\n",
    "    df = pd.concat([df_x,df_y['Title']],axis=1,join='inner').set_index('ID')\n",
    "    return df"
   ]
  },
  {
   "cell_type": "code",
   "execution_count": 8,
   "id": "fa6a2398-f14e-49f9-824d-bded59638284",
   "metadata": {},
   "outputs": [],
   "source": [
    "df = Dict2df(articles)"
   ]
  },
  {
   "cell_type": "code",
   "execution_count": 9,
   "id": "4fd27fe8-9704-4f6a-8e22-a977be308d64",
   "metadata": {},
   "outputs": [
    {
     "data": {
      "text/html": [
       "<div>\n",
       "<style scoped>\n",
       "    .dataframe tbody tr th:only-of-type {\n",
       "        vertical-align: middle;\n",
       "    }\n",
       "\n",
       "    .dataframe tbody tr th {\n",
       "        vertical-align: top;\n",
       "    }\n",
       "\n",
       "    .dataframe thead th {\n",
       "        text-align: right;\n",
       "    }\n",
       "</style>\n",
       "<table border=\"1\" class=\"dataframe\">\n",
       "  <thead>\n",
       "    <tr style=\"text-align: right;\">\n",
       "      <th></th>\n",
       "      <th>Paragraph</th>\n",
       "      <th>Title</th>\n",
       "    </tr>\n",
       "    <tr>\n",
       "      <th>ID</th>\n",
       "      <th></th>\n",
       "      <th></th>\n",
       "    </tr>\n",
       "  </thead>\n",
       "  <tbody>\n",
       "    <tr>\n",
       "      <th>articleID29</th>\n",
       "      <td>The world is witnessing a surge in renewable e...</td>\n",
       "      <td>Global Renewable Energy Adoption: Trends, Chal...</td>\n",
       "    </tr>\n",
       "    <tr>\n",
       "      <th>articleID15</th>\n",
       "      <td>Bioenergy, harnessing the power of organic mat...</td>\n",
       "      <td>Bioenergy Blossoms: Advancing Biofuels and Bio...</td>\n",
       "    </tr>\n",
       "    <tr>\n",
       "      <th>articleID14</th>\n",
       "      <td>Bioenergy, the fuel derived from organic matte...</td>\n",
       "      <td>Bioenergy Blossoms: Advancements in Biofuels a...</td>\n",
       "    </tr>\n",
       "    <tr>\n",
       "      <th>articleID28</th>\n",
       "      <td>The global energy landscape is undergoing a si...</td>\n",
       "      <td>Global Trends in Renewable Energy Adoption: A ...</td>\n",
       "    </tr>\n",
       "    <tr>\n",
       "      <th>articleID16</th>\n",
       "      <td>The quest for efficient and reliable energy st...</td>\n",
       "      <td>Powering the Future: Innovation in Battery Tec...</td>\n",
       "    </tr>\n",
       "  </tbody>\n",
       "</table>\n",
       "</div>"
      ],
      "text/plain": [
       "                                                     Paragraph  \\\n",
       "ID                                                               \n",
       "articleID29  The world is witnessing a surge in renewable e...   \n",
       "articleID15  Bioenergy, harnessing the power of organic mat...   \n",
       "articleID14  Bioenergy, the fuel derived from organic matte...   \n",
       "articleID28  The global energy landscape is undergoing a si...   \n",
       "articleID16  The quest for efficient and reliable energy st...   \n",
       "\n",
       "                                                         Title  \n",
       "ID                                                              \n",
       "articleID29  Global Renewable Energy Adoption: Trends, Chal...  \n",
       "articleID15  Bioenergy Blossoms: Advancing Biofuels and Bio...  \n",
       "articleID14  Bioenergy Blossoms: Advancements in Biofuels a...  \n",
       "articleID28  Global Trends in Renewable Energy Adoption: A ...  \n",
       "articleID16  Powering the Future: Innovation in Battery Tec...  "
      ]
     },
     "execution_count": 9,
     "metadata": {},
     "output_type": "execute_result"
    }
   ],
   "source": [
    "df.head()"
   ]
  },
  {
   "cell_type": "markdown",
   "id": "d8742499-ea0e-4816-9395-c9f640f4c642",
   "metadata": {},
   "source": [
    "<br></br>\n",
    "The dataframe has article id as the index and two columns for paragraphs and titles.  \n",
    "Now, we do not have to fine-tune the model as specified by the challenge objectives. We can go ahead with the pipeline using pre-trained models for extracting the key information from the article. The model we will use is the distilbart-cnn-12-6 by sshleifer.\n",
    "<br></br>"
   ]
  },
  {
   "cell_type": "code",
   "execution_count": 10,
   "id": "2dd3b83e-e243-42fa-ac08-f6b9eb705eb1",
   "metadata": {},
   "outputs": [],
   "source": [
    "from transformers import pipeline\n",
    "summarizer = pipeline(\"summarization\",model='sshleifer/distilbart-cnn-12-6')"
   ]
  },
  {
   "cell_type": "markdown",
   "id": "9ce9e839-d729-4ba1-a447-a1683d8ada17",
   "metadata": {},
   "source": [
    "<br></br>\n",
    "We can try articleID20 for an example.\n",
    "<br></br>"
   ]
  },
  {
   "cell_type": "markdown",
   "id": "77ee6801-dcb1-40fd-ba16-93acece583db",
   "metadata": {},
   "source": [
    "<b> Here is the article: </b>"
   ]
  },
  {
   "cell_type": "code",
   "execution_count": 11,
   "id": "60a871ff-97bf-43de-8ff6-b81aa06959b3",
   "metadata": {},
   "outputs": [
    {
     "data": {
      "text/plain": [
       "\"summarize: The transition to renewable energy requires a smarter grid, and innovative technologies are weaving renewables seamlessly into the energy fabric. Here's how smart meters and energy management, coupled with advancements in grid stability, are paving the way. Smart meters leading the charge:  These intelligent devices go beyond simply measuring electricity consumption. They:  Provide real-time data: Empowering consumers to monitor their energy usage and adjust consumption patterns based on grid needs and dynamic pricing.  Enable two-way communication: Facilitating real-time communication between consumers and utilities, allowing for demand response programs and grid optimization. Energy management gets smarter:  Smart grids integrate with home energy management systems, allowing for:  Automated load control: Appliances and devices can be automatically shifted to off-peak hours, reducing peak demand and grid stress.  Integration of distributed generation: Homes with rooftop solar panels can sell surplus energy back to the grid, contributing to a more distributed and resilient energy system. Grid stability for a smooth flow:  Integrating variable renewable energy sources like wind and solar necessitates grid stability solutions:  Energy storage: Batteries and other storage solutions can capture excess renewable energy and release it during peak demand periods, ensuring grid stability.  Advanced grid management systems: These systems use real-time data and AI to optimize power flow, anticipate fluctuations, and maintain grid stability even with variable renewable energy sources. By harnessing the power of smart meters, advanced energy management, and innovations in grid stability, smart grids are playing a pivotal role in integrating renewables, paving the way for a clean and sustainable energy future.\""
      ]
     },
     "execution_count": 11,
     "metadata": {},
     "output_type": "execute_result"
    }
   ],
   "source": [
    "'summarize: ' + df.loc['articleID20']['Paragraph']"
   ]
  },
  {
   "cell_type": "markdown",
   "id": "8f475472-2ca1-4b8b-80a1-6dbefa20af0e",
   "metadata": {},
   "source": [
    "<b> Here is the key sentence: </b>"
   ]
  },
  {
   "cell_type": "code",
   "execution_count": 12,
   "id": "b044be2a-4732-4855-af9a-19e0b81c2940",
   "metadata": {},
   "outputs": [
    {
     "data": {
      "text/plain": [
       "[{'summary_text': ' The transition to renewable energy requires a smarter grid . Smart meters and energy management'}]"
      ]
     },
     "execution_count": 12,
     "metadata": {},
     "output_type": "execute_result"
    }
   ],
   "source": [
    "summarizer(df.loc['articleID20']['Paragraph'],min_length=5,max_length=18)"
   ]
  },
  {
   "cell_type": "markdown",
   "id": "a5f50006-af42-47ea-a4dd-2c4198ab5ba2",
   "metadata": {},
   "source": [
    "<br>\n",
    "<br>\n",
    "<i> *** note for myself for the future: I should have added 'summarize: ' in front of the paragraph to specifically tell the model that I am summarizing </i>\n",
    "<br>\n",
    "<br>"
   ]
  },
  {
   "cell_type": "code",
   "execution_count": null,
   "id": "37fe5126-56ed-4ba7-b809-cccc1068d8b3",
   "metadata": {},
   "outputs": [],
   "source": []
  },
  {
   "cell_type": "code",
   "execution_count": null,
   "id": "cecd04d7-a03b-4d49-9ef0-88c93acaaf37",
   "metadata": {},
   "outputs": [],
   "source": []
  },
  {
   "cell_type": "code",
   "execution_count": null,
   "id": "709d9ad6-dd35-43b2-b22b-83be5f18de80",
   "metadata": {},
   "outputs": [],
   "source": []
  },
  {
   "cell_type": "markdown",
   "id": "f192ccda-d940-4d1e-a2b6-4bfbce177050",
   "metadata": {},
   "source": [
    "<br></br>\n",
    "Now, we can write a function to extract a key sentence by inputting the article id. "
   ]
  },
  {
   "cell_type": "code",
   "execution_count": 13,
   "id": "cb05e758-1869-4600-863f-f4908f27aefb",
   "metadata": {},
   "outputs": [],
   "source": [
    "def extractKeySentences(articleId):\n",
    "    summary = summarizer(df.loc[articleId]['Paragraph'],min_length=5,max_length=18)\n",
    "    print(summary)\n",
    "    summary_json = json.dumps(summary,indent = 4)\n",
    "    return summary_json"
   ]
  },
  {
   "cell_type": "code",
   "execution_count": 14,
   "id": "b64e359a-b119-463b-b388-06aeeae5d4f2",
   "metadata": {},
   "outputs": [
    {
     "name": "stdout",
     "output_type": "stream",
     "text": [
      "[{'summary_text': ' The transition to renewable energy requires a smarter grid . Smart meters and energy management'}]\n"
     ]
    }
   ],
   "source": [
    "summary = extractKeySentences('articleID20')"
   ]
  },
  {
   "cell_type": "markdown",
   "id": "c4131787-f0b8-4729-bfdf-0d0115ddfce4",
   "metadata": {},
   "source": [
    "<br></br>\n",
    "As you can see, the summary text will return in JSON format. In the future, we can use different models or fine-tune the pre-trained model as well as experiment with lengths to get a better key sentence. \n",
    "<br></br>"
   ]
  },
  {
   "cell_type": "markdown",
   "id": "04e16ded-4b9f-4b07-b009-09fb56fa17a4",
   "metadata": {},
   "source": [
    "<br></br>\n",
    "<b> We can go ahead with the second objective: the comparison of the two articles. </b><br>\n",
    "Here, we can go two ways. <br>\n",
    "1. We can extract the key sentences and compare those two.\n",
    "2. We can extract each sentence of document 1 and compare to the document 2.\n",
    "    \n",
    "The objective of the challenge states that we are comparing two articles, which means we will go ahead and choose the second option.\n"
   ]
  },
  {
   "cell_type": "markdown",
   "id": "b2e94462-d2de-465f-a490-5e45a74ff65e",
   "metadata": {},
   "source": [
    "We will load the pre-trained model (sentence-transformer/msmarco-distilbert-cos-v5) and write functions for encoding, mean pooling, and the compareArticle to look at similarities and dissimilarities. In the end, the returned format will be in JSON format as well as specified in the objectives. "
   ]
  },
  {
   "cell_type": "code",
   "execution_count": 15,
   "id": "1c918ba5-2a42-4c4c-ad59-e7de6190eea5",
   "metadata": {},
   "outputs": [],
   "source": [
    "from transformers import AutoTokenizer, AutoModel\n",
    "import torch\n",
    "import torch.nn.functional as F\n",
    "\n",
    "# Load model from HuggingFace Hub\n",
    "tokenizer = AutoTokenizer.from_pretrained(\"sentence-transformers/msmarco-distilbert-cos-v5\")\n",
    "model = AutoModel.from_pretrained(\"sentence-transformers/msmarco-distilbert-cos-v5\")\n",
    "    \n",
    "\n",
    "#Mean Pooling - Take average of all tokens\n",
    "def mean_pooling(model_output, attention_mask):\n",
    "    token_embeddings = model_output.last_hidden_state #First element of model_output contains all token embeddings\n",
    "    input_mask_expanded = attention_mask.unsqueeze(-1).expand(token_embeddings.size()).float()\n",
    "    return torch.sum(token_embeddings * input_mask_expanded, 1) / torch.clamp(input_mask_expanded.sum(1), min=1e-9)\n",
    "\n",
    "\n",
    "#Encode text\n",
    "def encode(texts):\n",
    "    # Tokenize sentences\n",
    "    encoded_input = tokenizer(texts, padding=True, truncation=True, return_tensors='pt')\n",
    "\n",
    "    # Compute token embeddings\n",
    "    with torch.no_grad():\n",
    "        model_output = model(**encoded_input, return_dict=True)\n",
    "\n",
    "    # Perform pooling\n",
    "    embeddings = mean_pooling(model_output, encoded_input['attention_mask'])\n",
    "\n",
    "    # Normalize embeddings\n",
    "    embeddings = F.normalize(embeddings, p=2, dim=1)\n",
    "    \n",
    "    return embeddings\n",
    "\n",
    "# Here, we will compare doc1 to doc2 by taking one sentence of doc1 and looking at similarity in doc2 sentences.\n",
    "# Then, we will pick one most similar and dissimilar to the sentence.\n",
    "# We will put those in the JSON format as well. \n",
    "def compareArticles(articleId1, articleId2):\n",
    "    Doc1 = df.loc[articleId1]['Paragraph'].split('.')[:-1]\n",
    "    Doc2 = df.loc[articleId2]['Paragraph'].split('.')[:-1]\n",
    "    len1 = len(Doc1)\n",
    "    comparisonSummary = {}\n",
    "    for i in range(len1):\n",
    "        # Sentences we want sentence embeddings for\n",
    "        sentence1 = Doc1[i]\n",
    "        \n",
    "        #Encode query and docs\n",
    "        sent_emb = encode(sentence1)\n",
    "        doc_emb = encode(Doc2)\n",
    "\n",
    "        #Compute dot score between query and all document embeddings\n",
    "        scores = torch.mm(sent_emb, doc_emb.transpose(0, 1))[0].cpu().tolist()\n",
    "        #Combine docs & scores\n",
    "        doc_score_pairs = list(zip(scores, Doc2))\n",
    "        \n",
    "        #Sort by decreasing score\n",
    "        doc_score_pairs = sorted(doc_score_pairs, key=lambda x: x[0], reverse=True)\n",
    "\n",
    "        #Put it into the dictionary\n",
    "        comparisonSummary[i] = (sentence1,doc_score_pairs[0],doc_score_pairs[-1])\n",
    "\n",
    "    #Turn the dictionary into the JSON format\n",
    "    comparisonSummary_json = json.dumps(comparisonSummary,indent = 4)\n",
    "    return comparisonSummary_json"
   ]
  },
  {
   "cell_type": "code",
   "execution_count": 16,
   "id": "614141c8-09f2-4eaa-bc85-7d503f6f1e77",
   "metadata": {},
   "outputs": [],
   "source": [
    "summary = compareArticles('articleID1','articleID22')"
   ]
  },
  {
   "cell_type": "markdown",
   "id": "76ed54f8-2c86-4b1e-94bf-c434ae328240",
   "metadata": {},
   "source": [
    "<br></br>\n",
    "Now, we can see the summary by loading the summary with json.load and see what is similar and dissimilar sentences in doc2 compared to doc1. \n",
    "<br></br>"
   ]
  },
  {
   "cell_type": "code",
   "execution_count": 17,
   "id": "e6b9bf1f-4b5c-48ea-aaad-eedcdb61136e",
   "metadata": {},
   "outputs": [],
   "source": [
    "summary = json.loads(summary)"
   ]
  },
  {
   "cell_type": "code",
   "execution_count": 18,
   "id": "88fa8098-d7ea-4dca-aacd-7b15b362debf",
   "metadata": {},
   "outputs": [
    {
     "name": "stdout",
     "output_type": "stream",
     "text": [
      "sentence of doc 1:  Solar panels are becoming increasingly powerful and accessible thanks to exciting advancements in two key areas: efficiency and materials\n",
      "most similar sentence in doc2 [score, sentence]:  [0.4124220609664917, 'The transition to renewable energy demands robust policies']\n",
      "most dissimilar sentence in doc2 [score, sentence]:  [0.16970928013324738, '  International Renewable Energy Agency (IRENA): This intergovernmental organization works towards the widespread adoption of renewable energy by providing assistance and facilitating collaboration between countries']\n",
      "\n",
      "\n",
      "sentence of doc 1:    Efficiency improvements are pushing the boundaries of how much sunlight can be converted into electricity\n",
      "most similar sentence in doc2 [score, sentence]:  [0.4276307225227356, 'The transition to renewable energy demands robust policies']\n",
      "most dissimilar sentence in doc2 [score, sentence]:  [0.1575373113155365, '  Renewable energy certificates (RECs): These tradable instruments allow entities to demonstrate their use of renewable energy, creating a market and providing additional revenue for renewable energy producers']\n",
      "\n",
      "\n",
      "sentence of doc 1:   Researchers are constantly refining existing technologies and exploring new designs\n",
      "most similar sentence in doc2 [score, sentence]:  [0.3474399447441101, \" Let's explore the landscape of global initiatives and the range of incentives encouraging investment in renewable energy\"]\n",
      "most dissimilar sentence in doc2 [score, sentence]:  [0.07067377865314484, '  Renewable energy certificates (RECs): These tradable instruments allow entities to demonstrate their use of renewable energy, creating a market and providing additional revenue for renewable energy producers']\n",
      "\n",
      "\n",
      "sentence of doc 1:   One example is the development of bifacial solar panels, which capture sunlight reflected off the ground from both sides, boosting energy production by up to 20%\n",
      "most similar sentence in doc2 [score, sentence]:  [0.38809409737586975, '  Tax credits and deductions: Financial incentives like tax breaks lower the upfront costs of installing renewable energy systems, making them more attractive to businesses and households']\n",
      "most dissimilar sentence in doc2 [score, sentence]:  [0.0881490707397461, '  International Renewable Energy Agency (IRENA): This intergovernmental organization works towards the widespread adoption of renewable energy by providing assistance and facilitating collaboration between countries']\n",
      "\n",
      "\n",
      "sentence of doc 1:   Additionally, improved cell design and manufacturing processes are leading to higher quality and more efficient solar cells\n",
      "most similar sentence in doc2 [score, sentence]:  [0.34702789783477783, 'The transition to renewable energy demands robust policies']\n",
      "most dissimilar sentence in doc2 [score, sentence]:  [0.12930920720100403, '  Renewable energy certificates (RECs): These tradable instruments allow entities to demonstrate their use of renewable energy, creating a market and providing additional revenue for renewable energy producers']\n",
      "\n",
      "\n",
      "sentence of doc 1:   The future of solar also lies in new materials\n",
      "most similar sentence in doc2 [score, sentence]:  [0.3328375220298767, 'The transition to renewable energy demands robust policies']\n",
      "most dissimilar sentence in doc2 [score, sentence]:  [0.1037028580904007, '  International Renewable Energy Agency (IRENA): This intergovernmental organization works towards the widespread adoption of renewable energy by providing assistance and facilitating collaboration between countries']\n",
      "\n",
      "\n",
      "sentence of doc 1:   Perovskites are a promising alternative to traditional silicon, offering the potential for even higher efficiency and lower manufacturing costs\n",
      "most similar sentence in doc2 [score, sentence]:  [0.10410483926534653, ' The confluence of global initiatives and diverse incentive schemes is creating a fertile ground for renewable energy investment, accelerating the transition towards a cleaner and more sustainable future']\n",
      "most dissimilar sentence in doc2 [score, sentence]:  [0.031586017459630966, ' Global collaboration takes the stage:  International efforts are fostering collaboration and accelerating renewable energy adoption:  The Paris Agreement: This landmark agreement sets a framework for countries to reduce greenhouse gas emissions, including transitioning to cleaner energy sources']\n",
      "\n",
      "\n",
      "sentence of doc 1:   Additionally, researchers are exploring the use of organic semiconductors, which can be lightweight, flexible, and even printed onto various surfaces\n",
      "most similar sentence in doc2 [score, sentence]:  [0.19941407442092896, \" Let's explore the landscape of global initiatives and the range of incentives encouraging investment in renewable energy\"]\n",
      "most dissimilar sentence in doc2 [score, sentence]:  [-0.028064511716365814, '  International Renewable Energy Agency (IRENA): This intergovernmental organization works towards the widespread adoption of renewable energy by providing assistance and facilitating collaboration between countries']\n",
      "\n",
      "\n",
      "sentence of doc 1:   These advancements could pave the way for innovative applications like solar-powered windows and clothing\n",
      "most similar sentence in doc2 [score, sentence]:  [0.3117321729660034, 'The transition to renewable energy demands robust policies']\n",
      "most dissimilar sentence in doc2 [score, sentence]:  [0.09476206451654434, '  Renewable energy certificates (RECs): These tradable instruments allow entities to demonstrate their use of renewable energy, creating a market and providing additional revenue for renewable energy producers']\n",
      "\n",
      "\n",
      "sentence of doc 1:   These advancements in efficiency and materials are making solar power a more attractive option for individuals and businesses alike, contributing to a cleaner and more sustainable future\n",
      "most similar sentence in doc2 [score, sentence]:  [0.483414888381958, ' The confluence of global initiatives and diverse incentive schemes is creating a fertile ground for renewable energy investment, accelerating the transition towards a cleaner and more sustainable future']\n",
      "most dissimilar sentence in doc2 [score, sentence]:  [0.2209516167640686, '  Renewable energy certificates (RECs): These tradable instruments allow entities to demonstrate their use of renewable energy, creating a market and providing additional revenue for renewable energy producers']\n",
      "\n",
      "\n"
     ]
    }
   ],
   "source": [
    "for i in range(len(summary)):\n",
    "    i = str(i)\n",
    "    print('sentence of doc 1: ', summary[i][0])\n",
    "    print('most similar sentence in doc2 [score, sentence]: ', summary[i][1])\n",
    "    print('most dissimilar sentence in doc2 [score, sentence]: ', summary[i][2])\n",
    "    print('\\n')"
   ]
  },
  {
   "cell_type": "markdown",
   "id": "42806d15-68a4-4cb2-8c49-114d0911c9b2",
   "metadata": {},
   "source": [
    "<br></br>\n",
    "Great! These implementation displays the key sentences as well as comparison of two articles. It is very flexiable to change and add more functionalities upon this. "
   ]
  },
  {
   "cell_type": "code",
   "execution_count": null,
   "id": "ae0e45e4-b53b-49ae-8e08-d4b8f97539a3",
   "metadata": {},
   "outputs": [],
   "source": []
  },
  {
   "cell_type": "code",
   "execution_count": null,
   "id": "889be77b-3c61-4c3c-8ac4-9ea12a824817",
   "metadata": {},
   "outputs": [],
   "source": []
  },
  {
   "cell_type": "code",
   "execution_count": null,
   "id": "caf3d72b-9e78-485e-b582-5bf7306a6bed",
   "metadata": {},
   "outputs": [],
   "source": []
  },
  {
   "cell_type": "code",
   "execution_count": null,
   "id": "1cbbcc00-8de7-466f-ae0d-9910770dd1ca",
   "metadata": {},
   "outputs": [],
   "source": []
  },
  {
   "cell_type": "code",
   "execution_count": null,
   "id": "9b307369-f46b-4cdd-a526-763e3f1ed067",
   "metadata": {},
   "outputs": [],
   "source": []
  },
  {
   "cell_type": "code",
   "execution_count": null,
   "id": "4a038f11-1d14-4d20-b24b-842f8d394543",
   "metadata": {},
   "outputs": [],
   "source": []
  },
  {
   "cell_type": "markdown",
   "id": "01a25c08-4f63-41af-aa5a-3d1b10e89ff6",
   "metadata": {},
   "source": [
    "<br>\n",
    "<br>\n",
    "We can try to fine-tune the text.\n",
    "<br>\n",
    "<br>\n",
    "We have to get x and y. \n",
    "<br>\n",
    "<br>"
   ]
  },
  {
   "cell_type": "code",
   "execution_count": 19,
   "id": "9fcd23bf-a86f-4990-8440-86c49a24d408",
   "metadata": {},
   "outputs": [
    {
     "data": {
      "text/plain": [
       "'Solar Power Gets a Boost: Efficiency and Material Advancements'"
      ]
     },
     "execution_count": 19,
     "metadata": {},
     "output_type": "execute_result"
    }
   ],
   "source": [
    "df.loc['articleID1']['Title']"
   ]
  },
  {
   "cell_type": "code",
   "execution_count": 20,
   "id": "0b25a49b-e319-4039-a6c5-141e7dcbc851",
   "metadata": {},
   "outputs": [
    {
     "data": {
      "text/plain": [
       "'Solar panels are becoming increasingly powerful and accessible thanks to exciting advancements in two key areas: efficiency and materials.  Efficiency improvements are pushing the boundaries of how much sunlight can be converted into electricity. Researchers are constantly refining existing technologies and exploring new designs. One example is the development of bifacial solar panels, which capture sunlight reflected off the ground from both sides, boosting energy production by up to 20%. Additionally, improved cell design and manufacturing processes are leading to higher quality and more efficient solar cells. The future of solar also lies in new materials. Perovskites are a promising alternative to traditional silicon, offering the potential for even higher efficiency and lower manufacturing costs. Additionally, researchers are exploring the use of organic semiconductors, which can be lightweight, flexible, and even printed onto various surfaces. These advancements could pave the way for innovative applications like solar-powered windows and clothing. These advancements in efficiency and materials are making solar power a more attractive option for individuals and businesses alike, contributing to a cleaner and more sustainable future.'"
      ]
     },
     "execution_count": 20,
     "metadata": {},
     "output_type": "execute_result"
    }
   ],
   "source": [
    "df.loc['articleID1']['Paragraph']"
   ]
  },
  {
   "cell_type": "code",
   "execution_count": null,
   "id": "a4034583-a11c-4c61-b952-087a4c7eb109",
   "metadata": {},
   "outputs": [],
   "source": []
  },
  {
   "cell_type": "code",
   "execution_count": null,
   "id": "9d816f4f-b2fc-4386-bb18-c73b5cdcf201",
   "metadata": {},
   "outputs": [],
   "source": []
  },
  {
   "cell_type": "code",
   "execution_count": null,
   "id": "361eb887-e425-4ab7-b706-51ed1bc6fedc",
   "metadata": {},
   "outputs": [],
   "source": []
  },
  {
   "cell_type": "code",
   "execution_count": null,
   "id": "b8cd7499-2696-4606-b74c-3f194d16a020",
   "metadata": {},
   "outputs": [],
   "source": []
  },
  {
   "cell_type": "code",
   "execution_count": null,
   "id": "b24246f0-15e1-44a6-a745-94a3aa9366d4",
   "metadata": {},
   "outputs": [],
   "source": []
  }
 ],
 "metadata": {
  "kernelspec": {
   "display_name": "Python 3 (ipykernel)",
   "language": "python",
   "name": "python3"
  },
  "language_info": {
   "codemirror_mode": {
    "name": "ipython",
    "version": 3
   },
   "file_extension": ".py",
   "mimetype": "text/x-python",
   "name": "python",
   "nbconvert_exporter": "python",
   "pygments_lexer": "ipython3",
   "version": "3.11.5"
  }
 },
 "nbformat": 4,
 "nbformat_minor": 5
}
